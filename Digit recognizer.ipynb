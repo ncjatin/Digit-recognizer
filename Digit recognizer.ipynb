{
 "cells": [
  {
   "cell_type": "code",
   "execution_count": 1,
   "metadata": {},
   "outputs": [
    {
     "name": "stderr",
     "output_type": "stream",
     "text": [
      "Using TensorFlow backend.\n"
     ]
    }
   ],
   "source": [
    "#Importing the Keras libraries and packages\n",
    "from keras.models import Sequential\n",
    "from keras.layers import Conv2D\n",
    "from keras.layers import MaxPooling2D\n",
    "from keras.layers import Flatten\n",
    "from keras.layers import Dense\n",
    "\n",
    "import numpy as np # linear algebra\n",
    "import pandas as pd # data processing, CSV file I/O (e.g. pd.read_csv)\n",
    "import seaborn as sns \n",
    "import matplotlib.pyplot as plt\n",
    "\n",
    "from sklearn.model_selection import train_test_split\n",
    "from keras.layers import Conv2D,MaxPool2D,Dense,Flatten,Dropout\n",
    "from keras.models import Sequential\n",
    "from keras.utils.np_utils import to_categorical # to convert one hot encoding\n",
    "from keras.optimizers import Adam"
   ]
  },
  {
   "cell_type": "code",
   "execution_count": 2,
   "metadata": {},
   "outputs": [],
   "source": [
    "#loading data\n",
    "train_data = pd.read_csv('train.csv')\n",
    "test_data = pd.read_csv('test.csv')"
   ]
  },
  {
   "cell_type": "code",
   "execution_count": 3,
   "metadata": {},
   "outputs": [
    {
     "data": {
      "text/plain": [
       "(42000, 785)"
      ]
     },
     "execution_count": 3,
     "metadata": {},
     "output_type": "execute_result"
    }
   ],
   "source": [
    "train_data.shape"
   ]
  },
  {
   "cell_type": "code",
   "execution_count": 4,
   "metadata": {},
   "outputs": [
    {
     "data": {
      "text/plain": [
       "(42000, 785)"
      ]
     },
     "execution_count": 4,
     "metadata": {},
     "output_type": "execute_result"
    }
   ],
   "source": [
    "train_data.shape"
   ]
  },
  {
   "cell_type": "code",
   "execution_count": 5,
   "metadata": {},
   "outputs": [
    {
     "data": {
      "image/png": "[encoded data removed]",
      "text/plain": [
       "<Figure size 432x288 with 1 Axes>"
      ]
     },
     "metadata": {
      "needs_background": "light"
     },
     "output_type": "display_data"
    }
   ],
   "source": [
    "Y_train = train_data['label']\n",
    "#Y_train.value_counts().plot.bar()\n",
    "sns.countplot(Y_train)\n",
    "X_train = train_data.drop('label',axis = 1)\n",
    "del train_data"
   ]
  },
  {
   "cell_type": "code",
   "execution_count": 6,
   "metadata": {},
   "outputs": [
    {
     "data": {
      "text/plain": [
       "pandas.core.frame.DataFrame"
      ]
     },
     "execution_count": 6,
     "metadata": {},
     "output_type": "execute_result"
    }
   ],
   "source": [
    "#Normalisation\n",
    "\n",
    "X_train = X_train/255.0\n",
    "test_data = test_data/255.0\n",
    "type(X_train)"
   ]
  },
  {
   "cell_type": "code",
   "execution_count": 7,
   "metadata": {},
   "outputs": [
    {
     "data": {
      "text/plain": [
       "numpy.ndarray"
      ]
     },
     "execution_count": 7,
     "metadata": {},
     "output_type": "execute_result"
    }
   ],
   "source": [
    "#reshape\n",
    "X_train = X_train.values.reshape(-1,28,28,1)\n",
    "test_data = test_data.values.reshape(-1,28,28,1)\n",
    "type(X_train)"
   ]
  },
  {
   "cell_type": "code",
   "execution_count": 8,
   "metadata": {},
   "outputs": [],
   "source": [
    "#label\n",
    "Y_train = to_categorical(Y_train,num_classes = 10)"
   ]
  },
  {
   "cell_type": "code",
   "execution_count": 9,
   "metadata": {},
   "outputs": [
    {
     "data": {
      "text/plain": [
       "numpy.ndarray"
      ]
     },
     "execution_count": 9,
     "metadata": {},
     "output_type": "execute_result"
    }
   ],
   "source": [
    "#spliting training and testing data\n",
    "random_seed = 2\n",
    "X_train,test_X,Y_train,test_Y = train_test_split(X_train,Y_train,test_size = 0.1,random_state = random_seed)\n",
    "type(X_train)"
   ]
  },
  {
   "cell_type": "code",
   "execution_count": 10,
   "metadata": {},
   "outputs": [
    {
     "name": "stdout",
     "output_type": "stream",
     "text": [
      "WARNING:tensorflow:From C:\\Users\\Jatin\\Anaconda3\\lib\\site-packages\\tensorflow\\python\\framework\\op_def_library.py:263: colocate_with (from tensorflow.python.framework.ops) is deprecated and will be removed in a future version.\n",
      "Instructions for updating:\n",
      "Colocations handled automatically by placer.\n"
     ]
    }
   ],
   "source": [
    "# Part 1 - Building the CNN\n",
    "\n",
    "# Initialising the CNN\n",
    "classifier = Sequential()\n",
    "\n",
    "\n",
    "# Step 1 - Convolution\n",
    "classifier.add(Conv2D(128, (3, 3), input_shape = (28,28,1), activation = 'relu'))\n",
    "\n",
    "\n",
    "\n",
    "# Step 2 - Pooling\n",
    "classifier.add(MaxPooling2D(pool_size = (2, 2)))\n",
    "\n",
    "\n",
    "# Repeating Step ! and 2\n",
    "# Step 1 - Convolution\n",
    "classifier.add(Conv2D(256, (3, 3), input_shape = (28,28,1), activation = 'relu'))\n",
    "\n",
    "# Step 2 - Pooling\n",
    "classifier.add(MaxPooling2D(pool_size = (2, 2)))\n",
    "\n",
    "# Step 1 - Convolution\n",
    "classifier.add(Conv2D(512, (3, 3), input_shape = (28,28,1), activation = 'relu'))\n",
    "\n",
    "# Step 2 - Pooling\n",
    "classifier.add(MaxPooling2D(pool_size = (2, 2)))\n",
    "\n",
    "\n",
    "\n",
    "# Step 3 - Flattening\n",
    "classifier.add(Flatten())\n",
    "\n",
    "\n",
    "# Step 4 - Full connection\n",
    "classifier.add(Dense(units = 64, activation = 'relu'))\n",
    "\n",
    "\n",
    "classifier.add(Dense(units = 10, activation = 'softmax'))\n",
    "\n",
    "\n",
    "# Compiling the CNN\n",
    "classifier.compile(optimizer = 'adam', loss = 'categorical_crossentropy', metrics = ['accuracy'])\n"
   ]
  },
  {
   "cell_type": "code",
   "execution_count": 11,
   "metadata": {},
   "outputs": [
    {
     "name": "stdout",
     "output_type": "stream",
     "text": [
      "WARNING:tensorflow:From C:\\Users\\Jatin\\Anaconda3\\lib\\site-packages\\tensorflow\\python\\ops\\math_ops.py:3066: to_int32 (from tensorflow.python.ops.math_ops) is deprecated and will be removed in a future version.\n",
      "Instructions for updating:\n",
      "Use tf.cast instead.\n",
      "Train on 37800 samples, validate on 4200 samples\n",
      "Epoch 1/10\n",
      "37800/37800 [==============================] - 540s 14ms/step - loss: 1.4195 - acc: 0.5354 - val_loss: 0.6953 - val_acc: 0.7829\n",
      "Epoch 2/10\n",
      "37800/37800 [==============================] - 581s 15ms/step - loss: 0.4612 - acc: 0.8581 - val_loss: 0.3257 - val_acc: 0.8974\n",
      "Epoch 3/10\n",
      "37800/37800 [==============================] - 568s 15ms/step - loss: 0.2534 - acc: 0.9218 - val_loss: 0.2147 - val_acc: 0.9312\n",
      "Epoch 4/10\n",
      "37800/37800 [==============================] - 565s 15ms/step - loss: 0.1743 - acc: 0.9457 - val_loss: 0.1694 - val_acc: 0.9481\n",
      "Epoch 5/10\n",
      "37800/37800 [==============================] - 569s 15ms/step - loss: 0.1383 - acc: 0.9578 - val_loss: 0.1522 - val_acc: 0.9562\n",
      "Epoch 6/10\n",
      "37800/37800 [==============================] - 566s 15ms/step - loss: 0.1190 - acc: 0.9636 - val_loss: 0.1217 - val_acc: 0.9602\n",
      "Epoch 7/10\n",
      "37800/37800 [==============================] - 566s 15ms/step - loss: 0.1078 - acc: 0.9676 - val_loss: 0.1093 - val_acc: 0.9671\n",
      "Epoch 8/10\n",
      "37800/37800 [==============================] - 561s 15ms/step - loss: 0.0877 - acc: 0.9728 - val_loss: 0.0881 - val_acc: 0.9710\n",
      "Epoch 9/10\n",
      "37800/37800 [==============================] - 368s 10ms/step - loss: 0.0764 - acc: 0.9766 - val_loss: 0.0853 - val_acc: 0.9745\n",
      "Epoch 10/10\n",
      "37800/37800 [==============================] - 335s 9ms/step - loss: 0.0697 - acc: 0.9781 - val_loss: 0.0809 - val_acc: 0.9745\n"
     ]
    },
    {
     "data": {
      "text/plain": [
       "<keras.callbacks.History at 0x20b1b8c26d8>"
      ]
     },
     "execution_count": 11,
     "metadata": {},
     "output_type": "execute_result"
    }
   ],
   "source": [
    "classifier.fit(x = X_train,y = Y_train,batch_size =2000,epochs = 10,validation_data=(test_X,test_Y))"
   ]
  },
  {
   "cell_type": "code",
   "execution_count": null,
   "metadata": {},
   "outputs": [],
   "source": [
    "\n",
    "result = classifier.predict(test_data)\n",
    "result = np.argmax(result,axis = 1)\n",
    "result = pd.DataFrame(result)\n",
    "result = result.rename(columns={0: 'Label'})\n",
    "sample_submission = pd.read_csv('sample_submission.csv')\n",
    "\n",
    "ImageId = pd.Series(range(1,28001),name = 'ImageId')\n",
    "submission = pd.concat([ImageId,result],axis = 1)\n",
    "submission.to_csv('submission.csv',index = False)\n",
    "\n",
    "submission"
   ]
  },
  {
   "cell_type": "code",
   "execution_count": null,
   "metadata": {},
   "outputs": [],
   "source": []
  }
 ],
 "metadata": {
  "kernelspec": {
   "display_name": "Python 3",
   "language": "python",
   "name": "python3"
  },
  "language_info": {
   "codemirror_mode": {
    "name": "ipython",
    "version": 3
   },
   "file_extension": ".py",
   "mimetype": "text/x-python",
   "name": "python",
   "nbconvert_exporter": "python",
   "pygments_lexer": "ipython3",
   "version": "3.7.3"
  }
 },
 "nbformat": 4,
 "nbformat_minor": 2
}
